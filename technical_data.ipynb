{
 "cells": [
  {
   "cell_type": "code",
   "execution_count": 18,
   "metadata": {},
   "outputs": [],
   "source": [
    "import os\n",
    "import pandas as pd\n",
    "import sqlite3\n",
    "import matplotlib.pyplot as plt\n",
    "import matplotlib\n",
    "import seaborn as sns\n",
    "%matplotlib inline"
   ]
  },
  {
   "cell_type": "code",
   "execution_count": 19,
   "metadata": {},
   "outputs": [],
   "source": [
    "conn = sqlite3.connect(\"db.sqlite\")\n",
    "cursor = conn.cursor()"
   ]
  },
  {
   "cell_type": "code",
   "execution_count": 20,
   "metadata": {},
   "outputs": [
    {
     "name": "stdout",
     "output_type": "stream",
     "text": [
      "    customer_id first_name last_name state  start_date\n",
      "0  C84725947570  Elizabeth     Jones    PR  2022-01-01\n",
      "1  C97761921457     Taylor   Bennett    NE  2022-01-01\n",
      "2  C85509443959     Amanda  Crawford  None  2022-01-01\n",
      "3  C77919217553    Melissa  Martinez    NE  2022-01-01\n",
      "4  C94654194089      Stacy   Sanders  None  2022-01-01\n",
      "5  C42516599860   Veronica     Adams    SD  2022-01-01\n",
      "6  C90146722938      Jacob  Marshall    GA  2022-01-01\n",
      "7  C75042977482     Amanda     Scott  None  2022-01-01\n",
      "8  C54655184087   Benjamin     Cross    WV  2022-01-01\n",
      "9  C15760142472   Michelle     Brown    CT  2022-01-01\n"
     ]
    }
   ],
   "source": [
    "# retrieving customers table\n",
    "customers_df = pd.read_sql_query(\"SELECT customer_id, first_name, last_name, state, start_date FROM customers\", conn)\n",
    "# customers_df = customers_df.set_index([\"start_date\"])\n",
    "print(customers_df.head(10))"
   ]
  },
  {
   "cell_type": "code",
   "execution_count": 21,
   "metadata": {},
   "outputs": [
    {
     "data": {
      "text/html": [
       "<div>\n",
       "<style scoped>\n",
       "    .dataframe tbody tr th:only-of-type {\n",
       "        vertical-align: middle;\n",
       "    }\n",
       "\n",
       "    .dataframe tbody tr th {\n",
       "        vertical-align: top;\n",
       "    }\n",
       "\n",
       "    .dataframe thead th {\n",
       "        text-align: right;\n",
       "    }\n",
       "</style>\n",
       "<table border=\"1\" class=\"dataframe\">\n",
       "  <thead>\n",
       "    <tr style=\"text-align: right;\">\n",
       "      <th></th>\n",
       "      <th>date</th>\n",
       "      <th>transaction_id</th>\n",
       "      <th>customer_id</th>\n",
       "      <th>department</th>\n",
       "      <th>category</th>\n",
       "      <th>sku</th>\n",
       "      <th>price</th>\n",
       "      <th>discount</th>\n",
       "    </tr>\n",
       "  </thead>\n",
       "  <tbody>\n",
       "    <tr>\n",
       "      <th>655600</th>\n",
       "      <td>2023-10-30</td>\n",
       "      <td>591710384747</td>\n",
       "      <td>C48092459954</td>\n",
       "      <td>Women</td>\n",
       "      <td>Tops</td>\n",
       "      <td>Hoodie</td>\n",
       "      <td>40.77</td>\n",
       "      <td>NaN</td>\n",
       "    </tr>\n",
       "    <tr>\n",
       "      <th>655601</th>\n",
       "      <td>2023-10-30</td>\n",
       "      <td>591710384747</td>\n",
       "      <td>C48092459954</td>\n",
       "      <td>Women</td>\n",
       "      <td>Tops</td>\n",
       "      <td>Tunic</td>\n",
       "      <td>29.77</td>\n",
       "      <td>NaN</td>\n",
       "    </tr>\n",
       "    <tr>\n",
       "      <th>655602</th>\n",
       "      <td>2023-10-30</td>\n",
       "      <td>217838665002</td>\n",
       "      <td>C70827631504</td>\n",
       "      <td>Women</td>\n",
       "      <td>Bottoms</td>\n",
       "      <td>Culottes</td>\n",
       "      <td>35.77</td>\n",
       "      <td>NaN</td>\n",
       "    </tr>\n",
       "    <tr>\n",
       "      <th>655603</th>\n",
       "      <td>2023-10-30</td>\n",
       "      <td>217838665002</td>\n",
       "      <td>C70827631504</td>\n",
       "      <td>Women</td>\n",
       "      <td>Bottoms</td>\n",
       "      <td>Culottes</td>\n",
       "      <td>35.77</td>\n",
       "      <td>NaN</td>\n",
       "    </tr>\n",
       "    <tr>\n",
       "      <th>655604</th>\n",
       "      <td>2023-10-30</td>\n",
       "      <td>596168046147</td>\n",
       "      <td>C87041346000</td>\n",
       "      <td>Men</td>\n",
       "      <td>Bottoms</td>\n",
       "      <td>Jeans</td>\n",
       "      <td>28.77</td>\n",
       "      <td>NaN</td>\n",
       "    </tr>\n",
       "  </tbody>\n",
       "</table>\n",
       "</div>"
      ],
      "text/plain": [
       "              date  transaction_id   customer_id department category  \\\n",
       "655600  2023-10-30    591710384747  C48092459954      Women     Tops   \n",
       "655601  2023-10-30    591710384747  C48092459954      Women     Tops   \n",
       "655602  2023-10-30    217838665002  C70827631504      Women  Bottoms   \n",
       "655603  2023-10-30    217838665002  C70827631504      Women  Bottoms   \n",
       "655604  2023-10-30    596168046147  C87041346000        Men  Bottoms   \n",
       "\n",
       "             sku  price  discount  \n",
       "655600    Hoodie  40.77       NaN  \n",
       "655601     Tunic  29.77       NaN  \n",
       "655602  Culottes  35.77       NaN  \n",
       "655603  Culottes  35.77       NaN  \n",
       "655604     Jeans  28.77       NaN  "
      ]
     },
     "execution_count": 21,
     "metadata": {},
     "output_type": "execute_result"
    }
   ],
   "source": [
    "# retrieving transactions table\n",
    "transactions_df = pd.read_sql_query(\n",
    "    \"SELECT date, transaction_id, customer_id, department, category, sku, price, discount FROM transactions\", \n",
    "    conn\n",
    "    )\n",
    "\n",
    "transactions_df.tail()"
   ]
  },
  {
   "cell_type": "code",
   "execution_count": 22,
   "metadata": {},
   "outputs": [],
   "source": [
    "conn.close()"
   ]
  },
  {
   "cell_type": "code",
   "execution_count": 23,
   "metadata": {},
   "outputs": [
    {
     "name": "stdout",
     "output_type": "stream",
     "text": [
      "start_date\n",
      "2022/01/01    254\n",
      "2022/01/02    241\n",
      "2022/01/03    251\n",
      "2022/01/04    210\n",
      "2022/01/05    221\n",
      "             ... \n",
      "2023/10/26    205\n",
      "2023/10/27    197\n",
      "2023/10/28    232\n",
      "2023/10/29    214\n",
      "2023/10/30    290\n",
      "Length: 668, dtype: int64\n"
     ]
    }
   ],
   "source": [
    "# Get the daily customers frequency\n",
    "customers_df[\"start_date\"] = pd.to_datetime(customers_df[\"start_date\"]).dt.strftime('%Y/%m/%d')\n",
    "customers_df[\"month\"] = pd.to_datetime(customers_df[\"start_date\"]).dt.strftime(\"%m\")\n",
    "customers_df1 = customers_df.groupby(\"start_date\")\n",
    "print(customers_df1.size())"
   ]
  },
  {
   "cell_type": "code",
   "execution_count": 25,
   "metadata": {},
   "outputs": [
    {
     "data": {
      "text/html": [
       "<div>\n",
       "<style scoped>\n",
       "    .dataframe tbody tr th:only-of-type {\n",
       "        vertical-align: middle;\n",
       "    }\n",
       "\n",
       "    .dataframe tbody tr th {\n",
       "        vertical-align: top;\n",
       "    }\n",
       "\n",
       "    .dataframe thead th {\n",
       "        text-align: right;\n",
       "    }\n",
       "</style>\n",
       "<table border=\"1\" class=\"dataframe\">\n",
       "  <thead>\n",
       "    <tr style=\"text-align: right;\">\n",
       "      <th></th>\n",
       "      <th>date</th>\n",
       "      <th>transaction_id</th>\n",
       "      <th>customer_id</th>\n",
       "      <th>department</th>\n",
       "      <th>category</th>\n",
       "      <th>sku</th>\n",
       "      <th>price</th>\n",
       "      <th>discount</th>\n",
       "      <th>month</th>\n",
       "      <th>revenue</th>\n",
       "    </tr>\n",
       "  </thead>\n",
       "  <tbody>\n",
       "    <tr>\n",
       "      <th>655600</th>\n",
       "      <td>2023/10/30</td>\n",
       "      <td>591710384747</td>\n",
       "      <td>C48092459954</td>\n",
       "      <td>Women</td>\n",
       "      <td>Tops</td>\n",
       "      <td>Hoodie</td>\n",
       "      <td>40.77</td>\n",
       "      <td>0.0</td>\n",
       "      <td>10</td>\n",
       "      <td>40.77</td>\n",
       "    </tr>\n",
       "    <tr>\n",
       "      <th>655601</th>\n",
       "      <td>2023/10/30</td>\n",
       "      <td>591710384747</td>\n",
       "      <td>C48092459954</td>\n",
       "      <td>Women</td>\n",
       "      <td>Tops</td>\n",
       "      <td>Tunic</td>\n",
       "      <td>29.77</td>\n",
       "      <td>0.0</td>\n",
       "      <td>10</td>\n",
       "      <td>29.77</td>\n",
       "    </tr>\n",
       "    <tr>\n",
       "      <th>655602</th>\n",
       "      <td>2023/10/30</td>\n",
       "      <td>217838665002</td>\n",
       "      <td>C70827631504</td>\n",
       "      <td>Women</td>\n",
       "      <td>Bottoms</td>\n",
       "      <td>Culottes</td>\n",
       "      <td>35.77</td>\n",
       "      <td>0.0</td>\n",
       "      <td>10</td>\n",
       "      <td>35.77</td>\n",
       "    </tr>\n",
       "    <tr>\n",
       "      <th>655603</th>\n",
       "      <td>2023/10/30</td>\n",
       "      <td>217838665002</td>\n",
       "      <td>C70827631504</td>\n",
       "      <td>Women</td>\n",
       "      <td>Bottoms</td>\n",
       "      <td>Culottes</td>\n",
       "      <td>35.77</td>\n",
       "      <td>0.0</td>\n",
       "      <td>10</td>\n",
       "      <td>35.77</td>\n",
       "    </tr>\n",
       "    <tr>\n",
       "      <th>655604</th>\n",
       "      <td>2023/10/30</td>\n",
       "      <td>596168046147</td>\n",
       "      <td>C87041346000</td>\n",
       "      <td>Men</td>\n",
       "      <td>Bottoms</td>\n",
       "      <td>Jeans</td>\n",
       "      <td>28.77</td>\n",
       "      <td>0.0</td>\n",
       "      <td>10</td>\n",
       "      <td>28.77</td>\n",
       "    </tr>\n",
       "  </tbody>\n",
       "</table>\n",
       "</div>"
      ],
      "text/plain": [
       "              date  transaction_id   customer_id department category  \\\n",
       "655600  2023/10/30    591710384747  C48092459954      Women     Tops   \n",
       "655601  2023/10/30    591710384747  C48092459954      Women     Tops   \n",
       "655602  2023/10/30    217838665002  C70827631504      Women  Bottoms   \n",
       "655603  2023/10/30    217838665002  C70827631504      Women  Bottoms   \n",
       "655604  2023/10/30    596168046147  C87041346000        Men  Bottoms   \n",
       "\n",
       "             sku  price  discount month  revenue  \n",
       "655600    Hoodie  40.77       0.0    10    40.77  \n",
       "655601     Tunic  29.77       0.0    10    29.77  \n",
       "655602  Culottes  35.77       0.0    10    35.77  \n",
       "655603  Culottes  35.77       0.0    10    35.77  \n",
       "655604     Jeans  28.77       0.0    10    28.77  "
      ]
     },
     "execution_count": 25,
     "metadata": {},
     "output_type": "execute_result"
    }
   ],
   "source": [
    "# process transactions table\n",
    "transactions_df[\"date\"] = pd.to_datetime(transactions_df[\"date\"]).dt.strftime('%Y/%m/%d')\n",
    "transactions_df[\"month\"] = pd.to_datetime(transactions_df[\"date\"]).dt.strftime(\"%m\")\n",
    "# fill null discount column\n",
    "transactions_df[\"discount\"] = transactions_df[\"discount\"].fillna(0)\n",
    "# add revenue column\n",
    "transactions_df[\"revenue\"] = transactions_df[\"price\"] - transactions_df[\"discount\"]\n",
    "transactions_df.tail()"
   ]
  },
  {
   "cell_type": "code",
   "execution_count": 26,
   "metadata": {},
   "outputs": [
    {
     "data": {
      "text/plain": [
       "(655605, 10)"
      ]
     },
     "execution_count": 26,
     "metadata": {},
     "output_type": "execute_result"
    }
   ],
   "source": [
    "transactions_df.shape"
   ]
  },
  {
   "cell_type": "code",
   "execution_count": 29,
   "metadata": {},
   "outputs": [
    {
     "data": {
      "text/plain": [
       "(655105, 10)"
      ]
     },
     "execution_count": 29,
     "metadata": {},
     "output_type": "execute_result"
    }
   ],
   "source": [
    "past_transactions = transactions_df[transactions_df[\"date\"] <= \"2023/11/22\"]\n",
    "past_transactions.shape"
   ]
  },
  {
   "cell_type": "code",
   "execution_count": 30,
   "metadata": {},
   "outputs": [
    {
     "data": {
      "text/html": [
       "<div>\n",
       "<style scoped>\n",
       "    .dataframe tbody tr th:only-of-type {\n",
       "        vertical-align: middle;\n",
       "    }\n",
       "\n",
       "    .dataframe tbody tr th {\n",
       "        vertical-align: top;\n",
       "    }\n",
       "\n",
       "    .dataframe thead th {\n",
       "        text-align: right;\n",
       "    }\n",
       "</style>\n",
       "<table border=\"1\" class=\"dataframe\">\n",
       "  <thead>\n",
       "    <tr style=\"text-align: right;\">\n",
       "      <th></th>\n",
       "      <th>date</th>\n",
       "      <th>transaction_id</th>\n",
       "      <th>customer_id</th>\n",
       "      <th>department</th>\n",
       "      <th>category</th>\n",
       "      <th>sku</th>\n",
       "      <th>price</th>\n",
       "      <th>discount</th>\n",
       "      <th>month</th>\n",
       "      <th>revenue</th>\n",
       "    </tr>\n",
       "  </thead>\n",
       "  <tbody>\n",
       "    <tr>\n",
       "      <th>654966</th>\n",
       "      <td>2024/12/01</td>\n",
       "      <td>74185730550</td>\n",
       "      <td>C97288685819</td>\n",
       "      <td>Men</td>\n",
       "      <td>Shirts</td>\n",
       "      <td>Crew Neck Shirt</td>\n",
       "      <td>22.77</td>\n",
       "      <td>0.0</td>\n",
       "      <td>12</td>\n",
       "      <td>22.77</td>\n",
       "    </tr>\n",
       "    <tr>\n",
       "      <th>655010</th>\n",
       "      <td>2026/04/23</td>\n",
       "      <td>450492858598</td>\n",
       "      <td>C87098628772</td>\n",
       "      <td>Women</td>\n",
       "      <td>Tops</td>\n",
       "      <td>Blouse</td>\n",
       "      <td>18.77</td>\n",
       "      <td>0.0</td>\n",
       "      <td>04</td>\n",
       "      <td>18.77</td>\n",
       "    </tr>\n",
       "    <tr>\n",
       "      <th>655090</th>\n",
       "      <td>2025/08/10</td>\n",
       "      <td>864586279890</td>\n",
       "      <td>C26421882147</td>\n",
       "      <td>Men</td>\n",
       "      <td>Bottoms</td>\n",
       "      <td>Corduroy Pants</td>\n",
       "      <td>38.77</td>\n",
       "      <td>0.0</td>\n",
       "      <td>08</td>\n",
       "      <td>38.77</td>\n",
       "    </tr>\n",
       "    <tr>\n",
       "      <th>655321</th>\n",
       "      <td>2026/04/11</td>\n",
       "      <td>436885001936</td>\n",
       "      <td>C97686118432</td>\n",
       "      <td>Men</td>\n",
       "      <td>Bottoms</td>\n",
       "      <td>Jeans</td>\n",
       "      <td>28.77</td>\n",
       "      <td>0.0</td>\n",
       "      <td>04</td>\n",
       "      <td>28.77</td>\n",
       "    </tr>\n",
       "    <tr>\n",
       "      <th>655488</th>\n",
       "      <td>2026/05/08</td>\n",
       "      <td>485143804486</td>\n",
       "      <td>C82856234840</td>\n",
       "      <td>Women</td>\n",
       "      <td>Tops</td>\n",
       "      <td>Tunic</td>\n",
       "      <td>29.77</td>\n",
       "      <td>0.0</td>\n",
       "      <td>05</td>\n",
       "      <td>29.77</td>\n",
       "    </tr>\n",
       "  </tbody>\n",
       "</table>\n",
       "</div>"
      ],
      "text/plain": [
       "              date  transaction_id   customer_id department category  \\\n",
       "654966  2024/12/01     74185730550  C97288685819        Men   Shirts   \n",
       "655010  2026/04/23    450492858598  C87098628772      Women     Tops   \n",
       "655090  2025/08/10    864586279890  C26421882147        Men  Bottoms   \n",
       "655321  2026/04/11    436885001936  C97686118432        Men  Bottoms   \n",
       "655488  2026/05/08    485143804486  C82856234840      Women     Tops   \n",
       "\n",
       "                    sku  price  discount month  revenue  \n",
       "654966  Crew Neck Shirt  22.77       0.0    12    22.77  \n",
       "655010           Blouse  18.77       0.0    04    18.77  \n",
       "655090   Corduroy Pants  38.77       0.0    08    38.77  \n",
       "655321            Jeans  28.77       0.0    04    28.77  \n",
       "655488            Tunic  29.77       0.0    05    29.77  "
      ]
     },
     "execution_count": 30,
     "metadata": {},
     "output_type": "execute_result"
    }
   ],
   "source": [
    "future_transactions = transactions_df[transactions_df[\"date\"] > \"2023/11/22\"]\n",
    "future_transactions.tail()"
   ]
  },
  {
   "cell_type": "code",
   "execution_count": 49,
   "metadata": {},
   "outputs": [
    {
     "data": {
      "text/html": [
       "<div>\n",
       "<style scoped>\n",
       "    .dataframe tbody tr th:only-of-type {\n",
       "        vertical-align: middle;\n",
       "    }\n",
       "\n",
       "    .dataframe tbody tr th {\n",
       "        vertical-align: top;\n",
       "    }\n",
       "\n",
       "    .dataframe thead th {\n",
       "        text-align: right;\n",
       "    }\n",
       "</style>\n",
       "<table border=\"1\" class=\"dataframe\">\n",
       "  <thead>\n",
       "    <tr style=\"text-align: right;\">\n",
       "      <th></th>\n",
       "      <th>revenue</th>\n",
       "    </tr>\n",
       "    <tr>\n",
       "      <th>date</th>\n",
       "      <th></th>\n",
       "    </tr>\n",
       "  </thead>\n",
       "  <tbody>\n",
       "    <tr>\n",
       "      <th>2023/11/09</th>\n",
       "      <td>80.31</td>\n",
       "    </tr>\n",
       "    <tr>\n",
       "      <th>2023/11/12</th>\n",
       "      <td>51.54</td>\n",
       "    </tr>\n",
       "    <tr>\n",
       "      <th>2023/11/13</th>\n",
       "      <td>34.77</td>\n",
       "    </tr>\n",
       "    <tr>\n",
       "      <th>2023/11/14</th>\n",
       "      <td>35.77</td>\n",
       "    </tr>\n",
       "    <tr>\n",
       "      <th>2023/11/18</th>\n",
       "      <td>34.77</td>\n",
       "    </tr>\n",
       "  </tbody>\n",
       "</table>\n",
       "</div>"
      ],
      "text/plain": [
       "            revenue\n",
       "date               \n",
       "2023/11/09    80.31\n",
       "2023/11/12    51.54\n",
       "2023/11/13    34.77\n",
       "2023/11/14    35.77\n",
       "2023/11/18    34.77"
      ]
     },
     "execution_count": 49,
     "metadata": {},
     "output_type": "execute_result"
    }
   ],
   "source": [
    "transactions_daily_df = pd.DataFrame(past_transactions[[\"date\", \"revenue\"]].groupby(\"date\", as_index=True).sum())\n",
    "transactions_daily_df.tail()"
   ]
  },
  {
   "cell_type": "code",
   "execution_count": 39,
   "metadata": {},
   "outputs": [
    {
     "data": {
      "text/html": [
       "<div>\n",
       "<style scoped>\n",
       "    .dataframe tbody tr th:only-of-type {\n",
       "        vertical-align: middle;\n",
       "    }\n",
       "\n",
       "    .dataframe tbody tr th {\n",
       "        vertical-align: top;\n",
       "    }\n",
       "\n",
       "    .dataframe thead th {\n",
       "        text-align: right;\n",
       "    }\n",
       "</style>\n",
       "<table border=\"1\" class=\"dataframe\">\n",
       "  <thead>\n",
       "    <tr style=\"text-align: right;\">\n",
       "      <th></th>\n",
       "      <th>revenue</th>\n",
       "    </tr>\n",
       "    <tr>\n",
       "      <th>month</th>\n",
       "      <th></th>\n",
       "    </tr>\n",
       "  </thead>\n",
       "  <tbody>\n",
       "    <tr>\n",
       "      <th>01</th>\n",
       "      <td>2247516.62</td>\n",
       "    </tr>\n",
       "    <tr>\n",
       "      <th>02</th>\n",
       "      <td>2051258.76</td>\n",
       "    </tr>\n",
       "    <tr>\n",
       "      <th>03</th>\n",
       "      <td>2149753.63</td>\n",
       "    </tr>\n",
       "    <tr>\n",
       "      <th>04</th>\n",
       "      <td>1801659.25</td>\n",
       "    </tr>\n",
       "    <tr>\n",
       "      <th>05</th>\n",
       "      <td>1865438.33</td>\n",
       "    </tr>\n",
       "  </tbody>\n",
       "</table>\n",
       "</div>"
      ],
      "text/plain": [
       "          revenue\n",
       "month            \n",
       "01     2247516.62\n",
       "02     2051258.76\n",
       "03     2149753.63\n",
       "04     1801659.25\n",
       "05     1865438.33"
      ]
     },
     "execution_count": 39,
     "metadata": {},
     "output_type": "execute_result"
    }
   ],
   "source": [
    "transactions_monthly_df = pd.DataFrame(past_transactions[[\"month\", \"revenue\"]].groupby(\"month\", as_index=True).sum())\n",
    "transactions_monthly_df.head()"
   ]
  },
  {
   "cell_type": "code",
   "execution_count": 50,
   "metadata": {},
   "outputs": [],
   "source": [
    "# save monthly revenue for visuals\n",
    "os.makedirs(\"./visuals\", exist_ok=True)\n",
    "past_transactions.to_csv(\"./visuals/past_transactions.csv\")\n",
    "future_transactions.to_csv(\"./visuals/future_transactions.csv\")\n",
    "transactions_daily_df.to_csv(\"./visuals/daily_transactions.csv\")\n",
    "transactions_monthly_df.to_csv(\"./visuals/monthly_transactions.csv\")"
   ]
  },
  {
   "cell_type": "code",
   "execution_count": null,
   "metadata": {},
   "outputs": [
    {
     "data": {
      "image/png": "[encoded data removed]",
      "text/plain": [
       "<Figure size 432x288 with 1 Axes>"
      ]
     },
     "metadata": {
      "needs_background": "light"
     },
     "output_type": "display_data"
    }
   ],
   "source": [
    "# Create a bar chart\n",
    "plt.bar(transactions_daily_df[\"date\"], transactions_daily_df[\"revenue\"])\n",
    "plt.xlabel('Date')\n",
    "plt.ylabel('Revenue')\n",
    "plt.title('Chart of Daily_Revenue')\n",
    "plt.show()"
   ]
  },
  {
   "cell_type": "code",
   "execution_count": 42,
   "metadata": {},
   "outputs": [
    {
     "data": {
      "image/png": "[encoded data removed]",
      "text/plain": [
       "<Figure size 432x288 with 1 Axes>"
      ]
     },
     "metadata": {
      "needs_background": "light"
     },
     "output_type": "display_data"
    }
   ],
   "source": [
    "# Create a bar chart\n",
    "plt.bar(transactions_monthly_df.index, transactions_monthly_df[\"revenue\"])\n",
    "plt.xlabel('Month')\n",
    "plt.ylabel('Total Revenue')\n",
    "plt.title('Chart of Monthly_Revenue')\n",
    "plt.show()"
   ]
  }
 ],
 "metadata": {
  "kernelspec": {
   "display_name": "Python 3",
   "language": "python",
   "name": "python3"
  },
  "language_info": {
   "codemirror_mode": {
    "name": "ipython",
    "version": 3
   },
   "file_extension": ".py",
   "mimetype": "text/x-python",
   "name": "python",
   "nbconvert_exporter": "python",
   "pygments_lexer": "ipython3",
   "version": "3.10.2"
  }
 },
 "nbformat": 4,
 "nbformat_minor": 2
}
